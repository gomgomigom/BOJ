{
 "cells": [
  {
   "attachments": {},
   "cell_type": "markdown",
   "metadata": {},
   "source": [
    "# python list comprehension\n",
    "---"
   ]
  },
  {
   "cell_type": "code",
   "execution_count": 2,
   "metadata": {},
   "outputs": [
    {
     "name": "stdout",
     "output_type": "stream",
     "text": [
      "기존방식 결과 : [1, 3, 1]\n",
      "list comprehension 결과 : [1, 3, 1]\n"
     ]
    }
   ],
   "source": [
    "# 리스트 중에 중복된 숫자 찾기 \n",
    "li = [1, 2, 3, 4, 5, 1, 3, 1, 7, 9]\n",
    "set_origin = set()\n",
    "set_comprehension = set()\n",
    "\n",
    "# 기존 방식\n",
    "dup = []\n",
    "for num in li:\n",
    "    if num in set_origin:\n",
    "        dup.append(num)\n",
    "    else:\n",
    "        set_origin.add(num)\n",
    "print(f'기존방식 결과 : {dup}')\n",
    "# 기존방식 결과 : [1, 3, 1]\n",
    "\n",
    "\n",
    "# list comprehension \n",
    "dup_comprehension = [num for num in li if num in set_comprehension or set_comprehension.add(num)]\n",
    "print(f'list comprehension 결과 : {dup_comprehension}') \n",
    "# list comprehension 결과 : [1, 3, 1]\n",
    "\n",
    "\n"
   ]
  },
  {
   "cell_type": "code",
   "execution_count": 3,
   "metadata": {},
   "outputs": [
    {
     "name": "stdout",
     "output_type": "stream",
     "text": [
      "ok\n",
      "11.0\n",
      "<class 'float'>\n",
      "-1\n",
      "True\n"
     ]
    },
    {
     "ename": "AttributeError",
     "evalue": "'int' object has no attribute 'is_insteger'",
     "output_type": "error",
     "traceback": [
      "\u001b[0;31m---------------------------------------------------------------------------\u001b[0m",
      "\u001b[0;31mAttributeError\u001b[0m                            Traceback (most recent call last)",
      "\u001b[1;32m/Users/gom/Documents/Coding/Python/Study/BOJ/for/today.ipynb 셀 3\u001b[0m in \u001b[0;36m<cell line: 20>\u001b[0;34m()\u001b[0m\n\u001b[1;32m     <a href='vscode-notebook-cell:/Users/gom/Documents/Coding/Python/Study/BOJ/for/today.ipynb#W2sZmlsZQ%3D%3D?line=17'>18</a>\u001b[0m \u001b[39mprint\u001b[39m(\u001b[39m1.0\u001b[39m\u001b[39m.\u001b[39mis_integer())\n\u001b[1;32m     <a href='vscode-notebook-cell:/Users/gom/Documents/Coding/Python/Study/BOJ/for/today.ipynb#W2sZmlsZQ%3D%3D?line=18'>19</a>\u001b[0m a \u001b[39m=\u001b[39m \u001b[39m1\u001b[39m\n\u001b[0;32m---> <a href='vscode-notebook-cell:/Users/gom/Documents/Coding/Python/Study/BOJ/for/today.ipynb#W2sZmlsZQ%3D%3D?line=19'>20</a>\u001b[0m \u001b[39mprint\u001b[39m(a\u001b[39m.\u001b[39;49mis_insteger())\n",
      "\u001b[0;31mAttributeError\u001b[0m: 'int' object has no attribute 'is_insteger'"
     ]
    }
   ],
   "source": [
    "x = 2\n",
    "if isinstance(x, int):\n",
    "    print('ok')\n",
    "    \n",
    "def sol(n):\n",
    "    x = n**(1/2)\n",
    "    print(x)\n",
    "    print(type(x))\n",
    "    \n",
    "    if type(x) == int:\n",
    "        print('ok')\n",
    "        return(x + 1)**2\n",
    "    else:\n",
    "        return -1\n",
    "    \n",
    "print(sol(121))\n",
    "\n",
    "print(1.0.is_integer())\n",
    "a = 1\n",
    "print(a.is_insteger())"
   ]
  },
  {
   "cell_type": "code",
   "execution_count": 4,
   "metadata": {},
   "outputs": [],
   "source": [
    "import sys\n",
    "a = 5\n",
    "\n"
   ]
  }
 ],
 "metadata": {
  "kernelspec": {
   "display_name": "test38",
   "language": "python",
   "name": "python3"
  },
  "language_info": {
   "codemirror_mode": {
    "name": "ipython",
    "version": 3
   },
   "file_extension": ".py",
   "mimetype": "text/x-python",
   "name": "python",
   "nbconvert_exporter": "python",
   "pygments_lexer": "ipython3",
   "version": "3.8.13"
  },
  "orig_nbformat": 4,
  "vscode": {
   "interpreter": {
    "hash": "cd56c1f37ecf59ee39a0c19948bd126e6053c93412a23941bd2d395aa25415e8"
   }
  }
 },
 "nbformat": 4,
 "nbformat_minor": 2
}
