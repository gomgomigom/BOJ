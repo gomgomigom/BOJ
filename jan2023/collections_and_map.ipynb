{
 "cells": [
  {
   "cell_type": "code",
   "execution_count": 3,
   "metadata": {},
   "outputs": [
    {
     "ename": "ValueError",
     "evalue": "invalid literal for int() with base 10: 'ohhenrie'",
     "output_type": "error",
     "traceback": [
      "\u001b[0;31m---------------------------------------------------------------------------\u001b[0m",
      "\u001b[0;31mValueError\u001b[0m                                Traceback (most recent call last)",
      "\u001b[1;32m/Users/gom/Documents/Coding/Python/Study/BOJ/jan2023/collections_and_map.ipynb 셀 1\u001b[0m in \u001b[0;36m<cell line: 3>\u001b[0;34m()\u001b[0m\n\u001b[1;32m      <a href='vscode-notebook-cell:/Users/gom/Documents/Coding/Python/Study/BOJ/jan2023/collections_and_map.ipynb#W0sZmlsZQ%3D%3D?line=0'>1</a>\u001b[0m \u001b[39mimport\u001b[39;00m \u001b[39msys\u001b[39;00m\n\u001b[0;32m----> <a href='vscode-notebook-cell:/Users/gom/Documents/Coding/Python/Study/BOJ/jan2023/collections_and_map.ipynb#W0sZmlsZQ%3D%3D?line=2'>3</a>\u001b[0m N,M \u001b[39m=\u001b[39m \u001b[39mmap\u001b[39m(\u001b[39mint\u001b[39m, \u001b[39minput\u001b[39m()\u001b[39m.\u001b[39msplit())\n\u001b[1;32m      <a href='vscode-notebook-cell:/Users/gom/Documents/Coding/Python/Study/BOJ/jan2023/collections_and_map.ipynb#W0sZmlsZQ%3D%3D?line=4'>5</a>\u001b[0m li \u001b[39m=\u001b[39m [i\u001b[39m.\u001b[39mstrip() \u001b[39mfor\u001b[39;00m i \u001b[39min\u001b[39;00m sys\u001b[39m.\u001b[39mstdin\u001b[39m.\u001b[39mreadlines()]\n\u001b[1;32m      <a href='vscode-notebook-cell:/Users/gom/Documents/Coding/Python/Study/BOJ/jan2023/collections_and_map.ipynb#W0sZmlsZQ%3D%3D?line=5'>6</a>\u001b[0m \u001b[39mprint\u001b[39m(li)\n",
      "\u001b[0;31mValueError\u001b[0m: invalid literal for int() with base 10: 'ohhenrie'"
     ]
    }
   ],
   "source": [
    "import sys\n",
    "\n",
    "N,M = map(int, input().split())\n",
    "\n",
    "li = [i.strip() for i in sys.stdin.readlines()]\n",
    "print(li)\n"
   ]
  }
 ],
 "metadata": {
  "kernelspec": {
   "display_name": "test38",
   "language": "python",
   "name": "python3"
  },
  "language_info": {
   "codemirror_mode": {
    "name": "ipython",
    "version": 3
   },
   "file_extension": ".py",
   "mimetype": "text/x-python",
   "name": "python",
   "nbconvert_exporter": "python",
   "pygments_lexer": "ipython3",
   "version": "3.8.13"
  },
  "orig_nbformat": 4,
  "vscode": {
   "interpreter": {
    "hash": "cd56c1f37ecf59ee39a0c19948bd126e6053c93412a23941bd2d395aa25415e8"
   }
  }
 },
 "nbformat": 4,
 "nbformat_minor": 2
}
